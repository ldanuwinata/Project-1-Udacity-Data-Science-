{
 "cells": [
  {
   "cell_type": "code",
   "execution_count": 1,
   "metadata": {},
   "outputs": [
    {
     "name": "stdout",
     "output_type": "stream",
     "text": [
      "hello world\n"
     ]
    }
   ],
   "source": [
    "print('hello  new world')\n"
   ]
  },
  {
   "cell_type": "code",
   "execution_count": 24,
   "metadata": {},
   "outputs": [
    {
     "name": "stdout",
     "output_type": "stream",
     "text": [
      "import success\n"
     ]
    }
   ],
   "source": [
    "import numpy as np\n",
    "import pandas as pd\n",
    "import matplotlib.pyplot as plt\n",
    "from IPython import display\n",
    "%matplotlib inline\n",
    "print('import success')"
   ]
  },
  {
   "cell_type": "code",
   "execution_count": 25,
   "metadata": {},
   "outputs": [],
   "source": [
    "df_1 = pd.read_csv('./survey_results_public.csv')\n",
    "df_2 = pd.read_csv('./ramen-ratings.csv')"
   ]
  },
  {
   "cell_type": "code",
   "execution_count": 10,
   "metadata": {},
   "outputs": [
    {
     "name": "stdout",
     "output_type": "stream",
     "text": [
      "      Review #           Brand  \\\n",
      "0         2580       New Touch   \n",
      "1         2579        Just Way   \n",
      "2         2578          Nissin   \n",
      "3         2577         Wei Lih   \n",
      "4         2576  Ching's Secret   \n",
      "...        ...             ...   \n",
      "2575         5           Vifon   \n",
      "2576         4         Wai Wai   \n",
      "2577         3         Wai Wai   \n",
      "2578         2         Wai Wai   \n",
      "2579         1        Westbrae   \n",
      "\n",
      "                                                Variety Style   Country Stars  \\\n",
      "0                             T's Restaurant Tantanmen    Cup     Japan  3.75   \n",
      "1     Noodles Spicy Hot Sesame Spicy Hot Sesame Guan...  Pack    Taiwan     1   \n",
      "2                         Cup Noodles Chicken Vegetable   Cup       USA  2.25   \n",
      "3                         GGE Ramen Snack Tomato Flavor  Pack    Taiwan  2.75   \n",
      "4                                       Singapore Curry  Pack     India  3.75   \n",
      "...                                                 ...   ...       ...   ...   \n",
      "2575  Hu Tiu Nam Vang [\"Phnom Penh\" style] Asian Sty...  Bowl   Vietnam   3.5   \n",
      "2576                     Oriental Style Instant Noodles  Pack  Thailand     1   \n",
      "2577                                     Tom Yum Shrimp  Pack  Thailand     2   \n",
      "2578                               Tom Yum Chili Flavor  Pack  Thailand     2   \n",
      "2579                                         Miso Ramen  Pack       USA   0.5   \n",
      "\n",
      "     Top Ten  \n",
      "0        NaN  \n",
      "1        NaN  \n",
      "2        NaN  \n",
      "3        NaN  \n",
      "4        NaN  \n",
      "...      ...  \n",
      "2575     NaN  \n",
      "2576     NaN  \n",
      "2577     NaN  \n",
      "2578     NaN  \n",
      "2579     NaN  \n",
      "\n",
      "[2580 rows x 7 columns]\n"
     ]
    }
   ],
   "source": [
    "print(df_2)"
   ]
  },
  {
   "cell_type": "code",
   "execution_count": 26,
   "metadata": {},
   "outputs": [
    {
     "name": "stdout",
     "output_type": "stream",
     "text": [
      "   Review #           Brand  \\\n",
      "0      2580       New Touch   \n",
      "1      2579        Just Way   \n",
      "2      2578          Nissin   \n",
      "3      2577         Wei Lih   \n",
      "4      2576  Ching's Secret   \n",
      "\n",
      "                                             Variety Style Country Stars  \\\n",
      "0                          T's Restaurant Tantanmen    Cup   Japan  3.75   \n",
      "1  Noodles Spicy Hot Sesame Spicy Hot Sesame Guan...  Pack  Taiwan     1   \n",
      "2                      Cup Noodles Chicken Vegetable   Cup     USA  2.25   \n",
      "3                      GGE Ramen Snack Tomato Flavor  Pack  Taiwan  2.75   \n",
      "4                                    Singapore Curry  Pack   India  3.75   \n",
      "\n",
      "  Top Ten  \n",
      "0     NaN  \n",
      "1     NaN  \n",
      "2     NaN  \n",
      "3     NaN  \n",
      "4     NaN  \n"
     ]
    }
   ],
   "source": [
    "print(df_1.head())"
   ]
  },
  {
   "cell_type": "code",
   "execution_count": 27,
   "metadata": {},
   "outputs": [],
   "source": [
    "num_rows = df_1.shape[0]\n",
    "num_cols = df_1.shape[1]"
   ]
  },
  {
   "cell_type": "code",
   "execution_count": 28,
   "metadata": {},
   "outputs": [
    {
     "name": "stdout",
     "output_type": "stream",
     "text": [
      "2580\n",
      "7\n"
     ]
    }
   ],
   "source": [
    "print(num_rows)\n",
    "print(num_cols)"
   ]
  },
  {
   "cell_type": "code",
   "execution_count": 30,
   "metadata": {},
   "outputs": [],
   "source": [
    "no_nulls = set(df_2.columns[df_2.isnull().mean()==0])"
   ]
  },
  {
   "cell_type": "code",
   "execution_count": 31,
   "metadata": {},
   "outputs": [
    {
     "name": "stdout",
     "output_type": "stream",
     "text": [
      "{'Review #', 'Country', 'Stars', 'Variety', 'Brand'}\n"
     ]
    }
   ],
   "source": [
    "print(no_nulls)"
   ]
  },
  {
   "cell_type": "code",
   "execution_count": null,
   "metadata": {},
   "outputs": [],
   "source": [
    "most"
   ]
  }
 ],
 "metadata": {
  "kernelspec": {
   "display_name": "Python 3",
   "language": "python",
   "name": "python3"
  },
  "language_info": {
   "codemirror_mode": {
    "name": "ipython",
    "version": 3
   },
   "file_extension": ".py",
   "mimetype": "text/x-python",
   "name": "python",
   "nbconvert_exporter": "python",
   "pygments_lexer": "ipython3",
   "version": "3.7.4"
  }
 },
 "nbformat": 4,
 "nbformat_minor": 2
}
